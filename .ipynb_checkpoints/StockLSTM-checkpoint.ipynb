{
 "cells": [
  {
   "cell_type": "code",
   "execution_count": 1,
   "metadata": {},
   "outputs": [
    {
     "name": "stderr",
     "output_type": "stream",
     "text": [
      "/home/eric/.local/lib/python3.6/site-packages/pandas_datareader/compat/__init__.py:7: FutureWarning: pandas.util.testing is deprecated. Use the functions in the public API at pandas.testing instead.\n",
      "  from pandas.util.testing import assert_frame_equal\n"
     ]
    }
   ],
   "source": [
    "# Imports\n",
    "import numpy as np\n",
    "from tensorflow.keras import Sequential\n",
    "from tensorflow.keras.layers import LSTM, Dense\n",
    "import pandas as pd\n",
    "import pandas_datareader as pdr\n",
    "import matplotlib.pyplot as plt\n",
    "from sklearn.preprocessing import MinMaxScaler\n",
    "from datetime import date\n",
    "from matplotlib import rc"
   ]
  },
  {
   "cell_type": "code",
   "execution_count": 2,
   "metadata": {},
   "outputs": [
    {
     "data": {
      "text/html": [
       "<div>\n",
       "<style scoped>\n",
       "    .dataframe tbody tr th:only-of-type {\n",
       "        vertical-align: middle;\n",
       "    }\n",
       "\n",
       "    .dataframe tbody tr th {\n",
       "        vertical-align: top;\n",
       "    }\n",
       "\n",
       "    .dataframe thead th {\n",
       "        text-align: right;\n",
       "    }\n",
       "</style>\n",
       "<table border=\"1\" class=\"dataframe\">\n",
       "  <thead>\n",
       "    <tr style=\"text-align: right;\">\n",
       "      <th></th>\n",
       "      <th>High</th>\n",
       "      <th>Low</th>\n",
       "      <th>Open</th>\n",
       "      <th>Close</th>\n",
       "      <th>Volume</th>\n",
       "      <th>Adj Close</th>\n",
       "    </tr>\n",
       "    <tr>\n",
       "      <th>Date</th>\n",
       "      <th></th>\n",
       "      <th></th>\n",
       "      <th></th>\n",
       "      <th></th>\n",
       "      <th></th>\n",
       "      <th></th>\n",
       "    </tr>\n",
       "  </thead>\n",
       "  <tbody>\n",
       "    <tr>\n",
       "      <th>2016-01-04</th>\n",
       "      <td>26.342501</td>\n",
       "      <td>25.500000</td>\n",
       "      <td>25.652500</td>\n",
       "      <td>26.337500</td>\n",
       "      <td>270597600.0</td>\n",
       "      <td>24.400942</td>\n",
       "    </tr>\n",
       "    <tr>\n",
       "      <th>2016-01-05</th>\n",
       "      <td>26.462500</td>\n",
       "      <td>25.602501</td>\n",
       "      <td>26.437500</td>\n",
       "      <td>25.677500</td>\n",
       "      <td>223164000.0</td>\n",
       "      <td>23.789471</td>\n",
       "    </tr>\n",
       "    <tr>\n",
       "      <th>2016-01-06</th>\n",
       "      <td>25.592501</td>\n",
       "      <td>24.967501</td>\n",
       "      <td>25.139999</td>\n",
       "      <td>25.174999</td>\n",
       "      <td>273829600.0</td>\n",
       "      <td>23.323915</td>\n",
       "    </tr>\n",
       "    <tr>\n",
       "      <th>2016-01-07</th>\n",
       "      <td>25.032499</td>\n",
       "      <td>24.107500</td>\n",
       "      <td>24.670000</td>\n",
       "      <td>24.112499</td>\n",
       "      <td>324377600.0</td>\n",
       "      <td>22.339539</td>\n",
       "    </tr>\n",
       "    <tr>\n",
       "      <th>2016-01-08</th>\n",
       "      <td>24.777500</td>\n",
       "      <td>24.190001</td>\n",
       "      <td>24.637501</td>\n",
       "      <td>24.240000</td>\n",
       "      <td>283192000.0</td>\n",
       "      <td>22.457672</td>\n",
       "    </tr>\n",
       "    <tr>\n",
       "      <th>...</th>\n",
       "      <td>...</td>\n",
       "      <td>...</td>\n",
       "      <td>...</td>\n",
       "      <td>...</td>\n",
       "      <td>...</td>\n",
       "      <td>...</td>\n",
       "    </tr>\n",
       "    <tr>\n",
       "      <th>2020-12-24</th>\n",
       "      <td>133.460007</td>\n",
       "      <td>131.100006</td>\n",
       "      <td>131.320007</td>\n",
       "      <td>131.970001</td>\n",
       "      <td>54930100.0</td>\n",
       "      <td>131.970001</td>\n",
       "    </tr>\n",
       "    <tr>\n",
       "      <th>2020-12-28</th>\n",
       "      <td>137.339996</td>\n",
       "      <td>133.509995</td>\n",
       "      <td>133.990005</td>\n",
       "      <td>136.690002</td>\n",
       "      <td>124486200.0</td>\n",
       "      <td>136.690002</td>\n",
       "    </tr>\n",
       "    <tr>\n",
       "      <th>2020-12-29</th>\n",
       "      <td>138.789993</td>\n",
       "      <td>134.339996</td>\n",
       "      <td>138.050003</td>\n",
       "      <td>134.869995</td>\n",
       "      <td>121047300.0</td>\n",
       "      <td>134.869995</td>\n",
       "    </tr>\n",
       "    <tr>\n",
       "      <th>2020-12-30</th>\n",
       "      <td>135.990005</td>\n",
       "      <td>133.399994</td>\n",
       "      <td>135.580002</td>\n",
       "      <td>133.720001</td>\n",
       "      <td>96452100.0</td>\n",
       "      <td>133.720001</td>\n",
       "    </tr>\n",
       "    <tr>\n",
       "      <th>2020-12-31</th>\n",
       "      <td>134.740005</td>\n",
       "      <td>131.720001</td>\n",
       "      <td>134.080002</td>\n",
       "      <td>132.690002</td>\n",
       "      <td>98990400.0</td>\n",
       "      <td>132.690002</td>\n",
       "    </tr>\n",
       "  </tbody>\n",
       "</table>\n",
       "<p>1259 rows × 6 columns</p>\n",
       "</div>"
      ],
      "text/plain": [
       "                  High         Low        Open       Close       Volume  \\\n",
       "Date                                                                      \n",
       "2016-01-04   26.342501   25.500000   25.652500   26.337500  270597600.0   \n",
       "2016-01-05   26.462500   25.602501   26.437500   25.677500  223164000.0   \n",
       "2016-01-06   25.592501   24.967501   25.139999   25.174999  273829600.0   \n",
       "2016-01-07   25.032499   24.107500   24.670000   24.112499  324377600.0   \n",
       "2016-01-08   24.777500   24.190001   24.637501   24.240000  283192000.0   \n",
       "...                ...         ...         ...         ...          ...   \n",
       "2020-12-24  133.460007  131.100006  131.320007  131.970001   54930100.0   \n",
       "2020-12-28  137.339996  133.509995  133.990005  136.690002  124486200.0   \n",
       "2020-12-29  138.789993  134.339996  138.050003  134.869995  121047300.0   \n",
       "2020-12-30  135.990005  133.399994  135.580002  133.720001   96452100.0   \n",
       "2020-12-31  134.740005  131.720001  134.080002  132.690002   98990400.0   \n",
       "\n",
       "             Adj Close  \n",
       "Date                    \n",
       "2016-01-04   24.400942  \n",
       "2016-01-05   23.789471  \n",
       "2016-01-06   23.323915  \n",
       "2016-01-07   22.339539  \n",
       "2016-01-08   22.457672  \n",
       "...                ...  \n",
       "2020-12-24  131.970001  \n",
       "2020-12-28  136.690002  \n",
       "2020-12-29  134.869995  \n",
       "2020-12-30  133.720001  \n",
       "2020-12-31  132.690002  \n",
       "\n",
       "[1259 rows x 6 columns]"
      ]
     },
     "execution_count": 2,
     "metadata": {},
     "output_type": "execute_result"
    }
   ],
   "source": [
    "# Fetch Apple stock and look at the data.\n",
    "df = pdr.DataReader('AAPL', data_source='yahoo', start='2016-01-01', end='2020-12-31')\n",
    "df"
   ]
  },
  {
   "cell_type": "code",
   "execution_count": 3,
   "metadata": {},
   "outputs": [
    {
     "data": {
      "text/plain": [
       "array([ 26.33749962,  25.67749977,  25.17499924, ..., 134.86999512,\n",
       "       133.72000122, 132.69000244])"
      ]
     },
     "execution_count": 3,
     "metadata": {},
     "output_type": "execute_result"
    }
   ],
   "source": [
    "# Only keep the closing prices.\n",
    "data = df['Close'].values\n",
    "index = df.index\n",
    "data"
   ]
  },
  {
   "cell_type": "code",
   "execution_count": 4,
   "metadata": {},
   "outputs": [],
   "source": [
    "# Scale data to range [0, 1] to make training simpler.\n",
    "data = np.reshape(data, newshape=(len(data), 1))\n",
    "scaler = MinMaxScaler().fit(data)\n",
    "data = scaler.transform(data)"
   ]
  },
  {
   "cell_type": "code",
   "execution_count": 5,
   "metadata": {},
   "outputs": [],
   "source": [
    "def train_test_split(data, split=(0.8, 0.2), sequence_lengths=50):\n",
    "    \"\"\"\n",
    "    Splits the data up into training data and test data.\n",
    "    :param data: Sequence of stock prices. 1D array like, must support slicing.\n",
    "    :param split: Training/test split. Eg. (0.8, 0.2) means 80% of the data will be used for training. (0.8, 0.2) default.\n",
    "    :param sequence_lengths: Length of stock price sequences for the LSTM to train on. 50 default.\n",
    "    :return: Training and test data. \n",
    "    \"\"\"\n",
    "    if sum(split) != 1:\n",
    "        raise ValueError('Splits must add up to one.')\n",
    "    \n",
    "    num_dps = len(data)\n",
    "    num_train = int(num_dps * split[0])\n",
    "\n",
    "    X_train, y_train = _split_to_sequences(data[:num_train], sequence_lengths)\n",
    "    X_test, y_test = _split_to_sequences(data[num_train:], sequence_lengths)\n",
    "    return (X_train, y_train), (X_test, y_test)\n",
    "    \n",
    "    \n",
    "def _split_to_sequences(data, sequence_lengths):\n",
    "    \"\"\"\n",
    "    Helper function for train_test_split. Constructs feature matrix X where each row is a sequence of stock prices.\n",
    "    The first row holds stock prices for day offsets: 0 --> N, the second for 1 --> N+1 etc.\n",
    "    :param data: Data for constructing feature matrix X and target vector y.\n",
    "    :param sequence lengths: Length of stock price sequences (number of features).\n",
    "    :return X, y: Feature matrix X, target vector y. Dimensions: \n",
    "                                                        X.shape = (len(data) - sequence_lengths, sequence_lengths, 1), \n",
    "                                                        y.shape = (len(data) - sequence_lengths, 1, 1)\n",
    "    \"\"\"\n",
    "    N = len(data)\n",
    "    X, y = [], []\n",
    "    for i in range(N-sequence_lengths):\n",
    "        X.append(data[i: i + sequence_lengths])\n",
    "        y.append(data[i + sequence_lengths])\n",
    "    \n",
    "    X, y = np.array(X), np.array(y)\n",
    "    return X, np.reshape(y, newshape=(*y.shape, 1))"
   ]
  },
  {
   "cell_type": "code",
   "execution_count": 6,
   "metadata": {},
   "outputs": [
    {
     "data": {
      "text/plain": [
       "((957, 50, 1), (957, 1, 1), (202, 50, 1), (202, 1, 1))"
      ]
     },
     "execution_count": 6,
     "metadata": {},
     "output_type": "execute_result"
    }
   ],
   "source": [
    "# Split the data to training data and test data.\n",
    "(X_train, y_train), (X_test, y_test) = train_test_split(data, split=(0.8, 0.2), sequence_lengths=50)\n",
    "\n",
    "X_train.shape, y_train.shape, X_test.shape, y_test.shape"
   ]
  },
  {
   "cell_type": "code",
   "execution_count": 7,
   "metadata": {},
   "outputs": [],
   "source": [
    "# Construct LSTM model:\n",
    "model = Sequential()\n",
    "model.add(LSTM(64, return_sequences=True))\n",
    "model.add(LSTM(32))\n",
    "model.add(Dense(16, activation='relu'))\n",
    "model.add(Dense(8, activation='relu'))\n",
    "model.add(Dense(1))"
   ]
  },
  {
   "cell_type": "code",
   "execution_count": 8,
   "metadata": {},
   "outputs": [
    {
     "name": "stdout",
     "output_type": "stream",
     "text": [
      "Epoch 1/20\n",
      "60/60 [==============================] - 5s 77ms/step - loss: 0.0028\n",
      "Epoch 2/20\n",
      "60/60 [==============================] - 5s 76ms/step - loss: 2.3428e-04\n",
      "Epoch 3/20\n",
      "60/60 [==============================] - 4s 74ms/step - loss: 2.0743e-04\n",
      "Epoch 4/20\n",
      "60/60 [==============================] - 4s 73ms/step - loss: 2.0073e-04\n",
      "Epoch 5/20\n",
      "60/60 [==============================] - 4s 74ms/step - loss: 1.9773e-04\n",
      "Epoch 6/20\n",
      "60/60 [==============================] - 4s 74ms/step - loss: 1.8285e-04\n",
      "Epoch 7/20\n",
      "60/60 [==============================] - 4s 74ms/step - loss: 1.5392e-04\n",
      "Epoch 8/20\n",
      "60/60 [==============================] - 4s 74ms/step - loss: 1.5155e-04\n",
      "Epoch 9/20\n",
      "60/60 [==============================] - 4s 73ms/step - loss: 1.3528e-04\n",
      "Epoch 10/20\n",
      "60/60 [==============================] - 4s 74ms/step - loss: 1.3007e-04\n",
      "Epoch 11/20\n",
      "60/60 [==============================] - 4s 73ms/step - loss: 1.3247e-04\n",
      "Epoch 12/20\n",
      "60/60 [==============================] - 4s 73ms/step - loss: 1.3212e-04\n",
      "Epoch 13/20\n",
      "60/60 [==============================] - 4s 74ms/step - loss: 1.4036e-04\n",
      "Epoch 14/20\n",
      "60/60 [==============================] - 4s 73ms/step - loss: 1.3755e-04\n",
      "Epoch 15/20\n",
      "60/60 [==============================] - 4s 73ms/step - loss: 1.2622e-04\n",
      "Epoch 16/20\n",
      "60/60 [==============================] - 4s 73ms/step - loss: 1.2915e-04\n",
      "Epoch 17/20\n",
      "60/60 [==============================] - 4s 73ms/step - loss: 9.8157e-05\n",
      "Epoch 18/20\n",
      "60/60 [==============================] - 4s 73ms/step - loss: 1.0389e-04\n",
      "Epoch 19/20\n",
      "60/60 [==============================] - 4s 74ms/step - loss: 9.6544e-05\n",
      "Epoch 20/20\n",
      "60/60 [==============================] - 4s 74ms/step - loss: 1.1511e-04\n"
     ]
    },
    {
     "data": {
      "text/plain": [
       "<tensorflow.python.keras.callbacks.History at 0x7fb3b75bcdd8>"
      ]
     },
     "execution_count": 8,
     "metadata": {},
     "output_type": "execute_result"
    }
   ],
   "source": [
    "# Fit model.\n",
    "model.compile(optimizer='adam', loss='mse')\n",
    "model.fit(X_train, y_train, batch_size=16, epochs=20)"
   ]
  },
  {
   "cell_type": "code",
   "execution_count": 9,
   "metadata": {},
   "outputs": [],
   "source": [
    "# Predict on the test set\n",
    "unscaled_predictions = model.predict(X_test)\n",
    "predictions = scaler.inverse_transform(unscaled_predictions)\n",
    "predictions = np.squeeze(predictions)"
   ]
  },
  {
   "cell_type": "code",
   "execution_count": 10,
   "metadata": {},
   "outputs": [],
   "source": [
    "# Rescale the original data\n",
    "data = scaler.inverse_transform(data)"
   ]
  },
  {
   "cell_type": "code",
   "execution_count": 11,
   "metadata": {},
   "outputs": [],
   "source": [
    "def rmse(prediction, outcome):\n",
    "    \"\"\"\n",
    "    Root mean square error of predictor.\n",
    "    :param prediction: Prediction vector. Type: scalar, 1D-array or ndarray. Must have the same dimensions as outcome.\n",
    "    :param outcome: Outcome vector. Type: scalar, 1D-array or ndarray. Must have the same dimensions as outcome.\n",
    "    :return rmse: Root mean squared error.\n",
    "    \"\"\"\n",
    "    return np.sqrt(np.mean(np.square(prediction - outcome)))"
   ]
  },
  {
   "cell_type": "code",
   "execution_count": 12,
   "metadata": {},
   "outputs": [
    {
     "name": "stdout",
     "output_type": "stream",
     "text": [
      "RMSE for the prediction: 6.6550023740676\n"
     ]
    },
    {
     "data": {
      "image/png": "[encoded data removed]",
      "text/plain": [
       "<matplotlib.figure.Figure at 0x7fb37c426ba8>"
      ]
     },
     "metadata": {
      "needs_background": "light"
     },
     "output_type": "display_data"
    }
   ],
   "source": [
    "# Plot prediction\n",
    "fig, ax = plt.subplots(figsize=(16, 9))\n",
    "\n",
    "font = {'family' : 'DejaVu Sans',\n",
    "        'weight' : 'bold',\n",
    "        'size'   : 22}\n",
    "\n",
    "rc('font', **font)\n",
    "\n",
    "\n",
    "num_days = len(index)\n",
    "num_test_days = len(X_test)\n",
    "day_offsets = np.arange(num_days)\n",
    "start_date = index[0].strftime('%d/%m/%y')\n",
    "outcome = np.squeeze(data[-num_test_days:])\n",
    "\n",
    "print(f'RMSE for the prediction: {rmse(predictions, outcome)}')\n",
    "\n",
    "ax.plot(day_offsets, data, c='b')\n",
    "ax.plot(day_offsets[-num_test_days:], predictions, 'r--')\n",
    "\n",
    "ymin, ymax = ax.get_ybound()\n",
    "\n",
    "ax.vlines(day_offsets[-num_test_days], ymin, ymax)\n",
    "ax.set_title('Stock prediction using LSTM')\n",
    "ax.legend(['AAPL', 'Predictions', 'End of training'])\n",
    "ax.set_xlabel(f'Day offset from {start_date}')\n",
    "ax.set_ylabel('Stock price $USD')\n",
    "plt.show()\n"
   ]
  }
 ],
 "metadata": {
  "kernelspec": {
   "display_name": "Python 3",
   "language": "python",
   "name": "python3"
  },
  "language_info": {
   "codemirror_mode": {
    "name": "ipython",
    "version": 3
   },
   "file_extension": ".py",
   "mimetype": "text/x-python",
   "name": "python",
   "nbconvert_exporter": "python",
   "pygments_lexer": "ipython3",
   "version": "3.6.9"
  }
 },
 "nbformat": 4,
 "nbformat_minor": 4
}
